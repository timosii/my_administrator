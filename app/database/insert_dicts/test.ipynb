{
 "cells": [
  {
   "cell_type": "code",
   "execution_count": 2,
   "metadata": {},
   "outputs": [],
   "source": [
    "%load_ext autoreload\n",
    "%autoreload 2"
   ]
  },
  {
   "cell_type": "code",
   "execution_count": 4,
   "metadata": {},
   "outputs": [],
   "source": [
    "import sys\n",
    "import os\n",
    "\n",
    "project_path = os.path.abspath('/home/timosii/my_administrator')\n",
    "if project_path not in sys.path:\n",
    "    sys.path.append(project_path)"
   ]
  },
  {
   "cell_type": "code",
   "execution_count": 30,
   "metadata": {},
   "outputs": [],
   "source": [
    "import os\n",
    "import pandas as pd\n",
    "import glob\n",
    "from app.database.database import engine, session_maker, Base\n",
    "from app.database.models.dicts import (\n",
    "    Mos,\n",
    "    Filials,\n",
    "    Zones,\n",
    "    Violations,\n",
    "    ProblemBlocs\n",
    ")\n",
    "\n",
    "class DictsInsert():\n",
    "\n",
    "    def __init__(self,\n",
    "                 path: str = '/home/timosii/my_administrator/app/database/insert_dicts/data/') -> None:\n",
    "        if not os.path.exists(path):\n",
    "            raise FileNotFoundError('Папки со словарями не существует')\n",
    "        self.path = path\n",
    "        \n",
    "    def get_dfs(self):\n",
    "        excel_files = glob.glob(\n",
    "            os.path.join(\n",
    "                self.path,\n",
    "                '*.xlsx'\n",
    "                )\n",
    "            )\n",
    "        self.dfs = {\n",
    "            os.path.basename(file).split('.')[0]: pd.read_excel(\n",
    "                file\n",
    "                ) for file in excel_files\n",
    "            }        "
   ]
  },
  {
   "cell_type": "code",
   "execution_count": 31,
   "metadata": {},
   "outputs": [],
   "source": [
    "test = DictsInsert()\n",
    "test.get_dfs()"
   ]
  },
  {
   "cell_type": "code",
   "execution_count": 35,
   "metadata": {},
   "outputs": [],
   "source": [
    "df_fil = test.dfs['fils_dict']"
   ]
  },
  {
   "cell_type": "code",
   "execution_count": 36,
   "metadata": {},
   "outputs": [
    {
     "data": {
      "text/html": [
       "<div>\n",
       "<style scoped>\n",
       "    .dataframe tbody tr th:only-of-type {\n",
       "        vertical-align: middle;\n",
       "    }\n",
       "\n",
       "    .dataframe tbody tr th {\n",
       "        vertical-align: top;\n",
       "    }\n",
       "\n",
       "    .dataframe thead th {\n",
       "        text-align: right;\n",
       "    }\n",
       "</style>\n",
       "<table border=\"1\" class=\"dataframe\">\n",
       "  <thead>\n",
       "    <tr style=\"text-align: right;\">\n",
       "      <th></th>\n",
       "      <th>fil_name</th>\n",
       "      <th>fil_population</th>\n",
       "      <th>fil_type</th>\n",
       "      <th>mo_name</th>\n",
       "    </tr>\n",
       "  </thead>\n",
       "  <tbody>\n",
       "    <tr>\n",
       "      <th>247</th>\n",
       "      <td>ГП 67</td>\n",
       "      <td>взрослые</td>\n",
       "      <td>поликлиника</td>\n",
       "      <td>ГП 67</td>\n",
       "    </tr>\n",
       "    <tr>\n",
       "      <th>402</th>\n",
       "      <td>ГП 67</td>\n",
       "      <td>взрослые</td>\n",
       "      <td>стационар</td>\n",
       "      <td>ГП 67</td>\n",
       "    </tr>\n",
       "  </tbody>\n",
       "</table>\n",
       "</div>"
      ],
      "text/plain": [
       "    fil_name fil_population     fil_type mo_name\n",
       "247    ГП 67       взрослые  поликлиника   ГП 67\n",
       "402    ГП 67       взрослые    стационар   ГП 67"
      ]
     },
     "execution_count": 36,
     "metadata": {},
     "output_type": "execute_result"
    }
   ],
   "source": [
    "df_fil.loc[\n",
    "    df_fil.fil_name == 'ГП 67'\n",
    "]"
   ]
  },
  {
   "cell_type": "code",
   "execution_count": 21,
   "metadata": {},
   "outputs": [
    {
     "data": {
      "text/plain": [
       "False"
      ]
     },
     "execution_count": 21,
     "metadata": {},
     "output_type": "execute_result"
    }
   ],
   "source": [
    "'ГП 2' in test.dfs['fils_dict']['mo_name']"
   ]
  },
  {
   "cell_type": "code",
   "execution_count": 27,
   "metadata": {},
   "outputs": [
    {
     "name": "stdout",
     "output_type": "stream",
     "text": [
      "<class 'pandas.core.frame.DataFrame'>\n",
      "RangeIndex: 85 entries, 0 to 84\n",
      "Data columns (total 3 columns):\n",
      " #   Column         Non-Null Count  Dtype \n",
      "---  ------         --------------  ----- \n",
      " 0   mo_name        85 non-null     object\n",
      " 1   mo_population  85 non-null     object\n",
      " 2   mo_type        85 non-null     object\n",
      "dtypes: object(3)\n",
      "memory usage: 2.1+ KB\n"
     ]
    }
   ],
   "source": [
    "test.dfs['mos_dict'].info()"
   ]
  }
 ],
 "metadata": {
  "kernelspec": {
   "display_name": "my-administrator-dXv7kOcj-py3.10",
   "language": "python",
   "name": "python3"
  },
  "language_info": {
   "codemirror_mode": {
    "name": "ipython",
    "version": 3
   },
   "file_extension": ".py",
   "mimetype": "text/x-python",
   "name": "python",
   "nbconvert_exporter": "python",
   "pygments_lexer": "ipython3",
   "version": "3.10.12"
  }
 },
 "nbformat": 4,
 "nbformat_minor": 2
}
