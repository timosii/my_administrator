{
 "cells": [
  {
   "cell_type": "code",
   "execution_count": 44,
   "metadata": {},
   "outputs": [
    {
     "name": "stdout",
     "output_type": "stream",
     "text": [
      "The autoreload extension is already loaded. To reload it, use:\n",
      "  %reload_ext autoreload\n"
     ]
    }
   ],
   "source": [
    "%load_ext autoreload\n",
    "%autoreload 2"
   ]
  },
  {
   "cell_type": "code",
   "execution_count": 45,
   "metadata": {},
   "outputs": [],
   "source": [
    "import sys\n",
    "import os\n",
    "\n",
    "project_path = os.path.abspath('/home/timosii/my_administrator')\n",
    "if project_path not in sys.path:\n",
    "    sys.path.append(project_path)"
   ]
  },
  {
   "cell_type": "code",
   "execution_count": 46,
   "metadata": {},
   "outputs": [],
   "source": [
    "import os\n",
    "import pandas as pd\n",
    "import glob\n",
    "from app.database.database import engine, session_maker, Base\n",
    "from app.database.models.dicts import (\n",
    "    Mos,\n",
    "    Filials,\n",
    "    Zones,\n",
    "    Violations,\n",
    "    ProblemBlocs\n",
    ")\n",
    "\n",
    "class DictsInsert():\n",
    "\n",
    "    def __init__(self,\n",
    "                 path: str = '/home/timosii/my_administrator/app/database/insert_dicts/data/') -> None:\n",
    "        if not os.path.exists(path):\n",
    "            raise FileNotFoundError('Папки со словарями не существует')\n",
    "        self.path = path\n",
    "        \n",
    "    def get_dfs(self):\n",
    "        excel_files = glob.glob(\n",
    "            os.path.join(\n",
    "                self.path,\n",
    "                '*.xlsx'\n",
    "                )\n",
    "            )\n",
    "        self.dfs = {\n",
    "            os.path.basename(file).split('.')[0]: pd.read_excel(\n",
    "                file\n",
    "                ) for file in excel_files\n",
    "            }        "
   ]
  },
  {
   "cell_type": "code",
   "execution_count": 47,
   "metadata": {},
   "outputs": [],
   "source": [
    "test = DictsInsert()\n",
    "test.get_dfs()"
   ]
  },
  {
   "cell_type": "code",
   "execution_count": 48,
   "metadata": {},
   "outputs": [],
   "source": [
    "df_viols = test.dfs['violations_dict']"
   ]
  },
  {
   "cell_type": "code",
   "execution_count": 49,
   "metadata": {},
   "outputs": [],
   "source": [
    "df_viols['time_to_correct'] = df_viols['time_to_correct'].replace('7 дней', '7 days')"
   ]
  },
  {
   "cell_type": "code",
   "execution_count": 50,
   "metadata": {},
   "outputs": [
    {
     "data": {
      "text/html": [
       "<div>\n",
       "<style scoped>\n",
       "    .dataframe tbody tr th:only-of-type {\n",
       "        vertical-align: middle;\n",
       "    }\n",
       "\n",
       "    .dataframe tbody tr th {\n",
       "        vertical-align: top;\n",
       "    }\n",
       "\n",
       "    .dataframe thead th {\n",
       "        text-align: right;\n",
       "    }\n",
       "</style>\n",
       "<table border=\"1\" class=\"dataframe\">\n",
       "  <thead>\n",
       "    <tr style=\"text-align: right;\">\n",
       "      <th></th>\n",
       "      <th>violation_name</th>\n",
       "      <th>zone</th>\n",
       "      <th>problem</th>\n",
       "      <th>description</th>\n",
       "      <th>is_photo_mfc</th>\n",
       "      <th>is_comment_mfc</th>\n",
       "      <th>is_photo_mo</th>\n",
       "      <th>is_comment_mo</th>\n",
       "      <th>is_no_data_button</th>\n",
       "      <th>time_to_correct</th>\n",
       "    </tr>\n",
       "  </thead>\n",
       "  <tbody>\n",
       "  </tbody>\n",
       "</table>\n",
       "</div>"
      ],
      "text/plain": [
       "Empty DataFrame\n",
       "Columns: [violation_name, zone, problem, description, is_photo_mfc, is_comment_mfc, is_photo_mo, is_comment_mo, is_no_data_button, time_to_correct]\n",
       "Index: []"
      ]
     },
     "execution_count": 50,
     "metadata": {},
     "output_type": "execute_result"
    }
   ],
   "source": [
    "df_viols.loc[\n",
    "    df_viols['time_to_correct'].isna()\n",
    "]"
   ]
  },
  {
   "cell_type": "code",
   "execution_count": 52,
   "metadata": {},
   "outputs": [
    {
     "data": {
      "text/plain": [
       "time_to_correct\n",
       "30 minutes    58\n",
       "7 days        21\n",
       "1 day         18\n",
       "1 hour         6\n",
       "5 minutes      4\n",
       "10 minutes     3\n",
       "Name: count, dtype: int64"
      ]
     },
     "execution_count": 52,
     "metadata": {},
     "output_type": "execute_result"
    }
   ],
   "source": [
    "df_viols.time_to_correct.value_counts()"
   ]
  },
  {
   "cell_type": "code",
   "execution_count": 32,
   "metadata": {},
   "outputs": [
    {
     "name": "stdout",
     "output_type": "stream",
     "text": [
      "<class 'pandas.core.frame.DataFrame'>\n",
      "RangeIndex: 110 entries, 0 to 109\n",
      "Data columns (total 10 columns):\n",
      " #   Column             Non-Null Count  Dtype \n",
      "---  ------             --------------  ----- \n",
      " 0   violation_name     110 non-null    object\n",
      " 1   zone               110 non-null    object\n",
      " 2   problem            110 non-null    object\n",
      " 3   description        110 non-null    object\n",
      " 4   is_photo_mfc       110 non-null    bool  \n",
      " 5   is_comment_mfc     110 non-null    bool  \n",
      " 6   is_photo_mo        110 non-null    bool  \n",
      " 7   is_comment_mo      110 non-null    bool  \n",
      " 8   is_no_data_button  110 non-null    bool  \n",
      " 9   time_to_correct    108 non-null    object\n",
      "dtypes: bool(5), object(5)\n",
      "memory usage: 5.0+ KB\n"
     ]
    }
   ],
   "source": [
    "df_viols.info()"
   ]
  },
  {
   "cell_type": "code",
   "execution_count": 33,
   "metadata": {},
   "outputs": [],
   "source": [
    "df_viols['time_to_correct'] = pd.to_timedelta(df_viols['time_to_correct'])"
   ]
  },
  {
   "cell_type": "code",
   "execution_count": 35,
   "metadata": {},
   "outputs": [],
   "source": [
    "df_fil = test.dfs['fils_dict']"
   ]
  },
  {
   "cell_type": "code",
   "execution_count": 36,
   "metadata": {},
   "outputs": [
    {
     "data": {
      "text/html": [
       "<div>\n",
       "<style scoped>\n",
       "    .dataframe tbody tr th:only-of-type {\n",
       "        vertical-align: middle;\n",
       "    }\n",
       "\n",
       "    .dataframe tbody tr th {\n",
       "        vertical-align: top;\n",
       "    }\n",
       "\n",
       "    .dataframe thead th {\n",
       "        text-align: right;\n",
       "    }\n",
       "</style>\n",
       "<table border=\"1\" class=\"dataframe\">\n",
       "  <thead>\n",
       "    <tr style=\"text-align: right;\">\n",
       "      <th></th>\n",
       "      <th>fil_name</th>\n",
       "      <th>fil_population</th>\n",
       "      <th>fil_type</th>\n",
       "      <th>mo_name</th>\n",
       "    </tr>\n",
       "  </thead>\n",
       "  <tbody>\n",
       "    <tr>\n",
       "      <th>247</th>\n",
       "      <td>ГП 67</td>\n",
       "      <td>взрослые</td>\n",
       "      <td>поликлиника</td>\n",
       "      <td>ГП 67</td>\n",
       "    </tr>\n",
       "    <tr>\n",
       "      <th>402</th>\n",
       "      <td>ГП 67</td>\n",
       "      <td>взрослые</td>\n",
       "      <td>стационар</td>\n",
       "      <td>ГП 67</td>\n",
       "    </tr>\n",
       "  </tbody>\n",
       "</table>\n",
       "</div>"
      ],
      "text/plain": [
       "    fil_name fil_population     fil_type mo_name\n",
       "247    ГП 67       взрослые  поликлиника   ГП 67\n",
       "402    ГП 67       взрослые    стационар   ГП 67"
      ]
     },
     "execution_count": 36,
     "metadata": {},
     "output_type": "execute_result"
    }
   ],
   "source": [
    "df_fil.loc[\n",
    "    df_fil.fil_name == 'ГП 67'\n",
    "]"
   ]
  },
  {
   "cell_type": "code",
   "execution_count": 21,
   "metadata": {},
   "outputs": [
    {
     "data": {
      "text/plain": [
       "False"
      ]
     },
     "execution_count": 21,
     "metadata": {},
     "output_type": "execute_result"
    }
   ],
   "source": [
    "'ГП 2' in test.dfs['fils_dict']['mo_name']"
   ]
  },
  {
   "cell_type": "code",
   "execution_count": 27,
   "metadata": {},
   "outputs": [
    {
     "name": "stdout",
     "output_type": "stream",
     "text": [
      "<class 'pandas.core.frame.DataFrame'>\n",
      "RangeIndex: 85 entries, 0 to 84\n",
      "Data columns (total 3 columns):\n",
      " #   Column         Non-Null Count  Dtype \n",
      "---  ------         --------------  ----- \n",
      " 0   mo_name        85 non-null     object\n",
      " 1   mo_population  85 non-null     object\n",
      " 2   mo_type        85 non-null     object\n",
      "dtypes: object(3)\n",
      "memory usage: 2.1+ KB\n"
     ]
    }
   ],
   "source": [
    "test.dfs['mos_dict'].info()"
   ]
  }
 ],
 "metadata": {
  "kernelspec": {
   "display_name": "my-administrator-dXv7kOcj-py3.10",
   "language": "python",
   "name": "python3"
  },
  "language_info": {
   "codemirror_mode": {
    "name": "ipython",
    "version": 3
   },
   "file_extension": ".py",
   "mimetype": "text/x-python",
   "name": "python",
   "nbconvert_exporter": "python",
   "pygments_lexer": "ipython3",
   "version": "3.10.12"
  }
 },
 "nbformat": 4,
 "nbformat_minor": 2
}
